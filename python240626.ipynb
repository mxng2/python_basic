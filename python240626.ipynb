{
 "cells": [
  {
   "cell_type": "markdown",
   "id": "53a0fd44-5644-4ce4-952d-da9cf1c585f8",
   "metadata": {},
   "source": [
    "# 목차1 - 식별자\n",
    "- 식별자에 대해 배웁니다.\n"
   ]
  },
  {
   "cell_type": "markdown",
   "id": "91017e76-ae1a-4f2b-be32-a992cf52d13e",
   "metadata": {},
   "source": [
    "## snake case와 camel case\n",
    "-각 프로그래밍 언어마다 양식이 존재함\n",
    "-클래스를 정의할 때, 앞문자가 대문자여야 함 => camel case\n",
    "-일반적인 함수를 정의할 때, snake_case 방식으로 사용해라."
   ]
  },
  {
   "cell_type": "markdown",
   "id": "4f10688d-4e3c-4526-ac08-4cfe608a7a6d",
   "metadata": {},
   "source": [
    "# 목차2 - 식별자 구분하기"
   ]
  },
  {
   "cell_type": "markdown",
   "id": "a093383a-4b13-422d-ae1c-61253f4de0c4",
   "metadata": {},
   "source": [
    "#입력과 출력\n",
    "input() :입력\n",
    "print() :출력\n"
   ]
  },
  {
   "cell_type": "code",
   "execution_count": 1,
   "id": "e7e2a8c0-0f21-4b85-9e3f-85619b7de43c",
   "metadata": {},
   "outputs": [
    {
     "name": "stdin",
     "output_type": "stream",
     "text": [
      "아무거나 입력!! dafd\n"
     ]
    },
    {
     "name": "stdout",
     "output_type": "stream",
     "text": [
      "dafd\n"
     ]
    }
   ],
   "source": [
    "var1 = input(\"아무거나 입력!!\")\n",
    "print(var1)"
   ]
  },
  {
   "cell_type": "markdown",
   "id": "6c376b66-a61d-4c6a-9ead-24f4ea362f37",
   "metadata": {},
   "source": [
    "# 숫자 출력할 때와 문자를 출력할 때가 다름"
   ]
  },
  {
   "cell_type": "code",
   "execution_count": 2,
   "id": "38ffe4e0-49b6-42d3-ada9-5fad4dbf0c08",
   "metadata": {},
   "outputs": [
    {
     "name": "stdout",
     "output_type": "stream",
     "text": [
      "# 하나만 출력합니다.\n",
      "\n",
      "10 20 30\n"
     ]
    }
   ],
   "source": [
    "print(\"# 하나만 출력합니다.\")\n",
    "print()\n",
    "print(10,20,30)"
   ]
  },
  {
   "cell_type": "markdown",
   "id": "e5ca5fc8-8a14-4cb0-96fa-75d4448912b7",
   "metadata": {},
   "source": [
    "# 자료형과 문자열\n",
    "- 숫자\n",
    "- 문자\n",
    "- 논리(True or false)"
   ]
  },
  {
   "cell_type": "code",
   "execution_count": 4,
   "id": "10dcb08b-35de-4b17-8cd5-69c199050a3a",
   "metadata": {},
   "outputs": [
    {
     "name": "stdout",
     "output_type": "stream",
     "text": [
      "<class 'str'>\n"
     ]
    }
   ],
   "source": [
    "print(type(\"안녕하세요\"))"
   ]
  },
  {
   "cell_type": "code",
   "execution_count": 6,
   "id": "c47e955e-7405-485a-bb06-d2229a4f560e",
   "metadata": {},
   "outputs": [
    {
     "name": "stdout",
     "output_type": "stream",
     "text": [
      "<class 'pandas.core.frame.DataFrame'>\n"
     ]
    },
    {
     "name": "stderr",
     "output_type": "stream",
     "text": [
      "C:\\Users\\user\\AppData\\Local\\Temp\\ipykernel_1436\\170484296.py:1: DeprecationWarning: \n",
      "Pyarrow will become a required dependency of pandas in the next major release of pandas (pandas 3.0),\n",
      "(to allow more performant data types, such as the Arrow string type, and better interoperability with other libraries)\n",
      "but was not found to be installed on your system.\n",
      "If this would cause problems for you,\n",
      "please provide us feedback at https://github.com/pandas-dev/pandas/issues/54466\n",
      "        \n",
      "  import pandas as pd\n"
     ]
    }
   ],
   "source": [
    "import pandas as pd\n",
    "df = pd.DataFrame({\n",
    "    'col1' : [1,2,3],\n",
    "    'col2' : [1,2,3],\n",
    "})\n",
    "\n",
    "print(type(df))"
   ]
  },
  {
   "cell_type": "markdown",
   "id": "f639bcd6-3ff1-461f-9fbe-0178fa429a8f",
   "metadata": {},
   "source": [
    "## 문자열 만들기\n",
    "- 큰 따옴표 방식 / 작은 따옴표 방식\n",
    "- 결론부터 말하면, 지금은 크게 구분하지 않는다.\n",
    "- 주의해야하는 것은 \"\", ''식으로 매칭 시켜주어야 한다.\n",
    "- ex) ' \" <-- 이런것 안됨"
   ]
  },
  {
   "cell_type": "code",
   "execution_count": 7,
   "id": "c089ec53-5806-4f5a-a86c-c1287e04e627",
   "metadata": {},
   "outputs": [
    {
     "name": "stdout",
     "output_type": "stream",
     "text": [
      "안녕하세요\n"
     ]
    }
   ],
   "source": [
    "print('안녕하세요')\n",
    "#앞 뒤 따옴표를 맞춰준다."
   ]
  },
  {
   "cell_type": "markdown",
   "id": "fdc3f454-4358-45d9-93e6-f915179b623e",
   "metadata": {},
   "source": [
    "- p89 확인\n",
    "- 문장 가운데 큰 따옴표를 구분하는 법 -> 문장 시작과 끝을 매칭만 잘 시켜주면 됨."
   ]
  },
  {
   "cell_type": "code",
   "execution_count": 8,
   "id": "6f441cf4-1956-4927-acb8-e5fa79684a20",
   "metadata": {},
   "outputs": [
    {
     "name": "stdout",
     "output_type": "stream",
     "text": [
      "\"안녕하세요\"라고 말햇습니다\n"
     ]
    }
   ],
   "source": [
    "print('\"안녕하세요\"라고 말햇습니다')"
   ]
  },
  {
   "cell_type": "markdown",
   "id": "a2f19fb8-1525-482f-ab5d-ef1b7f060b05",
   "metadata": {},
   "source": [
    "#이스케이프 문자\n",
    "- \\n : 줄바꿈\n",
    "- \\t : 탭\n",
    "- \\\\ : 역슬래시(\\)를 의미합니다."
   ]
  },
  {
   "cell_type": "code",
   "execution_count": 9,
   "id": "1fb045c2-c21e-4a9a-bbf1-b05798028cd5",
   "metadata": {},
   "outputs": [
    {
     "name": "stdout",
     "output_type": "stream",
     "text": [
      "안녕하세요\n",
      "안녕하세요\n"
     ]
    }
   ],
   "source": [
    "print(\"안녕하세요\\n안녕하세요\")"
   ]
  },
  {
   "cell_type": "code",
   "execution_count": 11,
   "id": "bd9b06b1-e635-4132-bc96-606aafb40785",
   "metadata": {},
   "outputs": [
    {
     "name": "stdout",
     "output_type": "stream",
     "text": [
      "안녕하세요\t안녕하세요\n"
     ]
    }
   ],
   "source": [
    "print(\"안녕하세요\\t안녕하세요\")"
   ]
  },
  {
   "cell_type": "markdown",
   "id": "db53bf1d-3cd9-46b0-a29c-93ee411d24a1",
   "metadata": {},
   "source": [
    "# 문자열 연산자 (중요)\n",
    "- 자주 사용함\n",
    "- 사칙연산 중에서 덧셈과 곱셈 사용 가능"
   ]
  },
  {
   "cell_type": "code",
   "execution_count": 12,
   "id": "3cf7958c-7015-46e0-8156-43ad09cb2045",
   "metadata": {},
   "outputs": [
    {
     "name": "stdout",
     "output_type": "stream",
     "text": [
      "4\n",
      "3\n",
      "18\n",
      "0.5\n"
     ]
    }
   ],
   "source": [
    "print(2+2)\n",
    "print(5-2)\n",
    "print(6*3)\n",
    "print(3/6)"
   ]
  },
  {
   "cell_type": "code",
   "execution_count": 13,
   "id": "69a0cff2-7b30-4f5e-beea-cf88097bdcf2",
   "metadata": {},
   "outputs": [
    {
     "name": "stdout",
     "output_type": "stream",
     "text": [
      "안녕하세요\n"
     ]
    }
   ],
   "source": [
    "print(\"안녕\"+\"하세요\")"
   ]
  },
  {
   "cell_type": "code",
   "execution_count": 17,
   "id": "470a4cfd-5085-46f2-afa8-a12be5537e64",
   "metadata": {},
   "outputs": [
    {
     "name": "stdout",
     "output_type": "stream",
     "text": [
      "안녕하세요\n"
     ]
    }
   ],
   "source": [
    "var1 = \"안녕\"\n",
    "var2 = \"하세요\"\n",
    "\n",
    "result = var1 + var2\n",
    "print(result)"
   ]
  },
  {
   "cell_type": "code",
   "execution_count": 18,
   "id": "18b18379-5be9-4bc4-a8ee-141430321033",
   "metadata": {},
   "outputs": [
    {
     "name": "stdout",
     "output_type": "stream",
     "text": [
      "안녕안녕안녕\n"
     ]
    }
   ],
   "source": [
    "var1 = \"안녕\"\n",
    "var2 = \"하세요\"\n",
    "\n",
    "result = var1 *3\n",
    "print(result)"
   ]
  },
  {
   "cell_type": "code",
   "execution_count": 19,
   "id": "7831be3c-8a22-4f62-a2d2-0e2e25cddf1f",
   "metadata": {},
   "outputs": [
    {
     "ename": "TypeError",
     "evalue": "unsupported operand type(s) for +: 'int' and 'str'",
     "output_type": "error",
     "traceback": [
      "\u001b[1;31m---------------------------------------------------------------------------\u001b[0m",
      "\u001b[1;31mTypeError\u001b[0m                                 Traceback (most recent call last)",
      "Cell \u001b[1;32mIn[19], line 4\u001b[0m\n\u001b[0;32m      1\u001b[0m num1 \u001b[38;5;241m=\u001b[39m \u001b[38;5;241m1\u001b[39m\n\u001b[0;32m      2\u001b[0m var1 \u001b[38;5;241m=\u001b[39m \u001b[38;5;124m\"\u001b[39m\u001b[38;5;124m안녕\u001b[39m\u001b[38;5;124m\"\u001b[39m\n\u001b[1;32m----> 4\u001b[0m result \u001b[38;5;241m=\u001b[39m \u001b[43mnum1\u001b[49m\u001b[43m \u001b[49m\u001b[38;5;241;43m+\u001b[39;49m\u001b[43m \u001b[49m\u001b[43mvar1\u001b[49m\n\u001b[0;32m      5\u001b[0m \u001b[38;5;28mprint\u001b[39m(result)\n",
      "\u001b[1;31mTypeError\u001b[0m: unsupported operand type(s) for +: 'int' and 'str'"
     ]
    }
   ],
   "source": [
    "num1 = 1\n",
    "var1 = \"안녕\"\n",
    "\n",
    "result = num1 + var1\n",
    "print(result)"
   ]
  },
  {
   "cell_type": "code",
   "execution_count": 26,
   "id": "14a3058b-8050-4fc6-94cb-a4553a1ef462",
   "metadata": {},
   "outputs": [
    {
     "name": "stdout",
     "output_type": "stream",
     "text": [
      "1안녕\n"
     ]
    }
   ],
   "source": [
    "num1 = 1\n",
    "var1 = \"안녕\"  # Example of a numeric string\n",
    "\n",
    "result = str(num1) + var1\n",
    "print(result)"
   ]
  },
  {
   "cell_type": "code",
   "execution_count": 28,
   "id": "d25205fc-a6ee-4f12-9837-cf9f953b4308",
   "metadata": {},
   "outputs": [
    {
     "ename": "ValueError",
     "evalue": "invalid literal for int() with base 10: 'gg'",
     "output_type": "error",
     "traceback": [
      "\u001b[1;31m---------------------------------------------------------------------------\u001b[0m",
      "\u001b[1;31mValueError\u001b[0m                                Traceback (most recent call last)",
      "Cell \u001b[1;32mIn[28], line 4\u001b[0m\n\u001b[0;32m      1\u001b[0m num1 \u001b[38;5;241m=\u001b[39m \u001b[38;5;241m1\u001b[39m\n\u001b[0;32m      2\u001b[0m var1 \u001b[38;5;241m=\u001b[39m \u001b[38;5;124m\"\u001b[39m\u001b[38;5;124mgg\u001b[39m\u001b[38;5;124m\"\u001b[39m  \u001b[38;5;66;03m# Example of a numeric string\u001b[39;00m\n\u001b[1;32m----> 4\u001b[0m result \u001b[38;5;241m=\u001b[39m num1 \u001b[38;5;241m+\u001b[39m \u001b[38;5;28;43mint\u001b[39;49m\u001b[43m(\u001b[49m\u001b[43mvar1\u001b[49m\u001b[43m)\u001b[49m\n\u001b[0;32m      5\u001b[0m \u001b[38;5;28mprint\u001b[39m(result)\n",
      "\u001b[1;31mValueError\u001b[0m: invalid literal for int() with base 10: 'gg'"
     ]
    }
   ],
   "source": [
    "num1 = 1\n",
    "var1 = \"gg\"  # Example of a numeric string\n",
    "\n",
    "result = num1 + int(var1)\n",
    "print(result)"
   ]
  },
  {
   "cell_type": "code",
   "execution_count": 30,
   "id": "042831f9-f4c1-4f37-9e88-fa581e658c1a",
   "metadata": {},
   "outputs": [
    {
     "ename": "ValueError",
     "evalue": "could not convert string to float: 'gg'",
     "output_type": "error",
     "traceback": [
      "\u001b[1;31m---------------------------------------------------------------------------\u001b[0m",
      "\u001b[1;31mValueError\u001b[0m                                Traceback (most recent call last)",
      "Cell \u001b[1;32mIn[30], line 4\u001b[0m\n\u001b[0;32m      1\u001b[0m num1 \u001b[38;5;241m=\u001b[39m \u001b[38;5;241m1\u001b[39m\n\u001b[0;32m      2\u001b[0m var1 \u001b[38;5;241m=\u001b[39m \u001b[38;5;124m\"\u001b[39m\u001b[38;5;124mgg\u001b[39m\u001b[38;5;124m\"\u001b[39m\n\u001b[1;32m----> 4\u001b[0m \u001b[38;5;28;43mfloat\u001b[39;49m\u001b[43m(\u001b[49m\u001b[43mvar1\u001b[49m\u001b[43m)\u001b[49m\n\u001b[0;32m      5\u001b[0m result \u001b[38;5;241m=\u001b[39m num1 \u001b[38;5;241m+\u001b[39m \u001b[38;5;28mint\u001b[39m(var1)\n\u001b[0;32m      6\u001b[0m \u001b[38;5;28mprint\u001b[39m(result)\n",
      "\u001b[1;31mValueError\u001b[0m: could not convert string to float: 'gg'"
     ]
    }
   ],
   "source": [
    "num1 = 1\n",
    "var1 = \"gg\"\n",
    "\n",
    "float(var1)\n",
    "result = num1 + int(var1)\n",
    "print(result)"
   ]
  },
  {
   "cell_type": "markdown",
   "id": "c46bccf4-0570-4d9e-b5a9-d7523dc5a09f",
   "metadata": {},
   "source": [
    "## 문자 선택 연산자(인덱싱): []\n",
    "- 리스트, 튜플 등등 원리는 동일함."
   ]
  },
  {
   "cell_type": "code",
   "execution_count": 35,
   "id": "83707073-79c0-41cd-9239-a95b46628a3f",
   "metadata": {},
   "outputs": [
    {
     "name": "stdout",
     "output_type": "stream",
     "text": [
      "안녕하\n",
      "안\n",
      "하\n",
      "요\n"
     ]
    }
   ],
   "source": [
    "var1 = \"안녕하세요\"\n",
    "print(var1[:3])\n",
    "print(var1[0])\n",
    "print(var1[2])\n",
    "print(var1[-1])"
   ]
  },
  {
   "cell_type": "code",
   "execution_count": 36,
   "id": "f3d1f4f9-74a1-4082-8bf9-bd1b1809c7bf",
   "metadata": {},
   "outputs": [
    {
     "name": "stdout",
     "output_type": "stream",
     "text": [
      " \n"
     ]
    }
   ],
   "source": [
    "var1 = \"안녕하세     요\"\n",
    "print(var1[5])"
   ]
  },
  {
   "cell_type": "markdown",
   "id": "ffbbd987-8fac-4db1-886a-cbc58e128b5f",
   "metadata": {},
   "source": [
    "## 문자열 범위 선택(슬라이싱) [:]\n",
    "- 리스트, 튜플 등 자료형과 원리 동일"
   ]
  },
  {
   "cell_type": "code",
   "execution_count": 38,
   "id": "054623f0-3a1e-475f-b94b-a65f47e9b1a9",
   "metadata": {},
   "outputs": [
    {
     "name": "stdout",
     "output_type": "stream",
     "text": [
      "ell\n",
      "llo\n"
     ]
    }
   ],
   "source": [
    "       #01234 -> 인덱스 번호\n",
    "\n",
    "var1 = \"Hello Python!!!\"\n",
    "print(var1[1:4])\n",
    "print(var1[2:5])"
   ]
  },
  {
   "cell_type": "code",
   "execution_count": 40,
   "id": "809d2f5f-d55f-4f70-807d-75c25b6db220",
   "metadata": {},
   "outputs": [
    {
     "name": "stdout",
     "output_type": "stream",
     "text": [
      "ython!!!\n"
     ]
    }
   ],
   "source": [
    "var1 = \"Hello Python!!!\"\n",
    "print(var1[7:])"
   ]
  },
  {
   "cell_type": "code",
   "execution_count": 43,
   "id": "dc6b57b1-be7b-4407-8568-07a11070d09e",
   "metadata": {},
   "outputs": [
    {
     "name": "stdout",
     "output_type": "stream",
     "text": [
      "Hello \n"
     ]
    }
   ],
   "source": [
    "var1 = \"Hello Python!!!\"\n",
    "print(var1[:6])"
   ]
  },
  {
   "cell_type": "markdown",
   "id": "9ad70954-d122-42c1-81d6-0d6d596d9924",
   "metadata": {},
   "source": [
    "# 인덱스 에러가 발생하는 경우"
   ]
  },
  {
   "cell_type": "code",
   "execution_count": 45,
   "id": "46914848-eab1-4719-9281-4f07c011e1c8",
   "metadata": {},
   "outputs": [
    {
     "ename": "IndexError",
     "evalue": "string index out of range",
     "output_type": "error",
     "traceback": [
      "\u001b[1;31m---------------------------------------------------------------------------\u001b[0m",
      "\u001b[1;31mIndexError\u001b[0m                                Traceback (most recent call last)",
      "Cell \u001b[1;32mIn[45], line 2\u001b[0m\n\u001b[0;32m      1\u001b[0m var1 \u001b[38;5;241m=\u001b[39m \u001b[38;5;124m\"\u001b[39m\u001b[38;5;124mHello Python!!!\u001b[39m\u001b[38;5;124m\"\u001b[39m\n\u001b[1;32m----> 2\u001b[0m \u001b[38;5;28mprint\u001b[39m(\u001b[43mvar1\u001b[49m\u001b[43m[\u001b[49m\u001b[38;5;241;43m100\u001b[39;49m\u001b[43m]\u001b[49m)\n",
      "\u001b[1;31mIndexError\u001b[0m: string index out of range"
     ]
    }
   ],
   "source": [
    "var1 = \"Hello Python!!!\"\n",
    "print(var1[100]) \n",
    "#print(var1[:100]) -> 이렇게 코드를 작성하면 정상적으로 나옴.\n"
   ]
  },
  {
   "cell_type": "code",
   "execution_count": 46,
   "id": "d3d143ac-09db-4f20-a0fe-cf06c86462c5",
   "metadata": {},
   "outputs": [
    {
     "data": {
      "text/plain": [
       "15"
      ]
     },
     "execution_count": 46,
     "metadata": {},
     "output_type": "execute_result"
    }
   ],
   "source": [
    "len(var1)"
   ]
  },
  {
   "cell_type": "code",
   "execution_count": 47,
   "id": "68a0bfd7-bd8d-4c29-b1ce-63d4e6faba66",
   "metadata": {},
   "outputs": [
    {
     "name": "stdout",
     "output_type": "stream",
     "text": [
      "aaaaaaaaaa\n"
     ]
    }
   ],
   "source": [
    "var1 = \"abababababababababab\"\n",
    "print(var1[0::2])"
   ]
  },
  {
   "cell_type": "code",
   "execution_count": 49,
   "id": "15aad23f-de6c-47ba-966f-b381222e1e3a",
   "metadata": {},
   "outputs": [
    {
     "name": "stdout",
     "output_type": "stream",
     "text": [
      "abababababababababab\n"
     ]
    }
   ],
   "source": [
    "var1 = \"abababababababababab\"\n",
    "print(var1[0:])"
   ]
  },
  {
   "cell_type": "code",
   "execution_count": 50,
   "id": "6e688bb0-0051-4ae9-93d8-072dbb1c4792",
   "metadata": {},
   "outputs": [
    {
     "name": "stdout",
     "output_type": "stream",
     "text": [
      "abababababababababab\n"
     ]
    }
   ],
   "source": [
    "var1 = \"abababababababababab\"\n",
    "print(var1[:])"
   ]
  },
  {
   "cell_type": "code",
   "execution_count": 51,
   "id": "537fc308-c955-4bad-89cc-dfdfd8638b9f",
   "metadata": {},
   "outputs": [
    {
     "name": "stdout",
     "output_type": "stream",
     "text": [
      "abababababababababa\n"
     ]
    }
   ],
   "source": [
    "var1 = \"abababababababababab\"\n",
    "print(var1[:-1])"
   ]
  },
  {
   "cell_type": "markdown",
   "id": "30d70125-4e5d-4e05-9427-f9f77354df32",
   "metadata": {},
   "source": [
    "# 자료형과 숫자"
   ]
  },
  {
   "cell_type": "markdown",
   "id": "7f2cab3b-62c2-4571-bc64-b3eabc3ef412",
   "metadata": {},
   "source": [
    "## 지수 표현"
   ]
  },
  {
   "cell_type": "code",
   "execution_count": 53,
   "id": "546da615-cf9b-4162-96f7-e31defda51b0",
   "metadata": {},
   "outputs": [
    {
     "data": {
      "text/plain": [
       "52.2723"
      ]
     },
     "execution_count": 53,
     "metadata": {},
     "output_type": "execute_result"
    }
   ],
   "source": [
    "0.522723e2"
   ]
  },
  {
   "cell_type": "code",
   "execution_count": 54,
   "id": "3c3547bc-db7e-4f0c-ba06-5fb2c05f2f88",
   "metadata": {},
   "outputs": [
    {
     "data": {
      "text/plain": [
       "0.0052273"
      ]
     },
     "execution_count": 54,
     "metadata": {},
     "output_type": "execute_result"
    }
   ],
   "source": [
    "0.52273e-2"
   ]
  },
  {
   "cell_type": "markdown",
   "id": "722b3e70-f5c3-4247-b2ca-e4d81c9a9b3d",
   "metadata": {},
   "source": [
    "## 사칙 연산"
   ]
  },
  {
   "cell_type": "code",
   "execution_count": 56,
   "id": "71930300-514d-4615-a54c-d8634d5a5ba3",
   "metadata": {},
   "outputs": [
    {
     "data": {
      "text/plain": [
       "2.0"
      ]
     },
     "execution_count": 56,
     "metadata": {},
     "output_type": "execute_result"
    }
   ],
   "source": [
    "6/3  #나눗셈은 실수형으로 표현된다."
   ]
  },
  {
   "cell_type": "code",
   "execution_count": 57,
   "id": "eeb03195-ee1e-4e97-96a8-7c2d5ebeb6ec",
   "metadata": {},
   "outputs": [
    {
     "data": {
      "text/plain": [
       "18"
      ]
     },
     "execution_count": 57,
     "metadata": {},
     "output_type": "execute_result"
    }
   ],
   "source": [
    "6*3"
   ]
  },
  {
   "cell_type": "code",
   "execution_count": 58,
   "id": "7c7bf28a-829e-4230-925b-5bc02fc287fc",
   "metadata": {},
   "outputs": [
    {
     "data": {
      "text/plain": [
       "5.0"
      ]
     },
     "execution_count": 58,
     "metadata": {},
     "output_type": "execute_result"
    }
   ],
   "source": [
    "2.0 + 3 #실수형과 정수형의 덧셈은 실수형으로 표현됨 '실수형 > 정수형'으로 기억"
   ]
  },
  {
   "cell_type": "code",
   "execution_count": 59,
   "id": "2dbedb74-7669-4c10-b6f8-c7e9c5bbff0c",
   "metadata": {},
   "outputs": [
    {
     "data": {
      "text/plain": [
       "1"
      ]
     },
     "execution_count": 59,
     "metadata": {},
     "output_type": "execute_result"
    }
   ],
   "source": [
    "3 // 2 # // 나누기 연산자"
   ]
  },
  {
   "cell_type": "code",
   "execution_count": 61,
   "id": "1eb11778-6199-4eef-8b9e-03899396de53",
   "metadata": {},
   "outputs": [
    {
     "data": {
      "text/plain": [
       "1"
      ]
     },
     "execution_count": 61,
     "metadata": {},
     "output_type": "execute_result"
    }
   ],
   "source": [
    "3 % 2 # % 나머지 연산자"
   ]
  },
  {
   "cell_type": "code",
   "execution_count": 62,
   "id": "286b0537-c772-40a5-b3dd-eb178dc16d1b",
   "metadata": {},
   "outputs": [
    {
     "data": {
      "text/plain": [
       "9"
      ]
     },
     "execution_count": 62,
     "metadata": {},
     "output_type": "execute_result"
    }
   ],
   "source": [
    "3 ** 2 # 제곱 연산자"
   ]
  },
  {
   "cell_type": "code",
   "execution_count": 63,
   "id": "8d132e26-308a-4916-aa4a-141e92a358d6",
   "metadata": {},
   "outputs": [
    {
     "name": "stdout",
     "output_type": "stream",
     "text": [
      "110\n"
     ]
    }
   ],
   "source": [
    "number = 100\n",
    "number = number + 10\n",
    "print(number)"
   ]
  },
  {
   "cell_type": "code",
   "execution_count": 64,
   "id": "ea2029d2-153d-4628-8a34-7cfa19d3aae4",
   "metadata": {},
   "outputs": [
    {
     "name": "stdout",
     "output_type": "stream",
     "text": [
      "110\n"
     ]
    }
   ],
   "source": [
    "number = 100\n",
    "number += 10\n",
    "print(number)"
   ]
  },
  {
   "cell_type": "code",
   "execution_count": 66,
   "id": "0d0d60e3-ee6c-4e20-81ef-a0178f30f560",
   "metadata": {},
   "outputs": [
    {
     "name": "stdout",
     "output_type": "stream",
     "text": [
      "안녕i\n"
     ]
    }
   ],
   "source": [
    "sample_text = \"안녕\"\n",
    "sample_text += 'i'\n",
    "print(sample_text)"
   ]
  },
  {
   "cell_type": "markdown",
   "id": "761f9550-ce56-4825-9ec8-162789bae701",
   "metadata": {},
   "source": [
    "## input()"
   ]
  },
  {
   "cell_type": "code",
   "execution_count": 68,
   "id": "409ec674-be5c-4c5f-bfe7-f1c2adf5e5b9",
   "metadata": {},
   "outputs": [
    {
     "name": "stdin",
     "output_type": "stream",
     "text": [
      "숫자를 입력하세요!! 5\n",
      "숫자를 입력하세요!! 6\n"
     ]
    },
    {
     "name": "stdout",
     "output_type": "stream",
     "text": [
      "11\n"
     ]
    }
   ],
   "source": [
    "num1 = input(\"숫자를 입력하세요!!\")\n",
    "num2 = input(\"숫자를 입력하세요!!\")\n",
    "\n",
    "result = int(num1) + int(num2)\n",
    "print(result)"
   ]
  },
  {
   "cell_type": "code",
   "execution_count": 74,
   "id": "a66b322a-91c6-4c9b-b707-a1f0c06945c8",
   "metadata": {},
   "outputs": [
    {
     "name": "stdout",
     "output_type": "stream",
     "text": [
      "52\n",
      "52.388\n"
     ]
    }
   ],
   "source": [
    "num1 = \"52\"\n",
    "num2 = \"52.388\"\n",
    "\n",
    "print(int(num1))\n",
    "print(float(num2))\n"
   ]
  },
  {
   "cell_type": "markdown",
   "id": "f7b166a7-97b8-48f5-90f7-a8a97e8ef874",
   "metadata": {},
   "source": [
    "- \"52.273\"처럼 소숫점이 있는 문자열은 바로 정수 변한이 안됨 (주의)\n",
    "  + 문자열 ==> 실수형 ==> 정수형"
   ]
  },
  {
   "cell_type": "code",
   "execution_count": 75,
   "id": "9c9fbcfb-af1f-45a7-8b5e-e83791134d05",
   "metadata": {},
   "outputs": [
    {
     "name": "stdout",
     "output_type": "stream",
     "text": [
      "52\n"
     ]
    }
   ],
   "source": [
    "print(int(float(num2)))"
   ]
  },
  {
   "cell_type": "code",
   "execution_count": 76,
   "id": "596443c7-4ba3-4eda-8f4a-90fb1c5a7372",
   "metadata": {},
   "outputs": [
    {
     "name": "stdout",
     "output_type": "stream",
     "text": [
      "나의 이름은 홍길동이고 나이는 30입니다\n"
     ]
    }
   ],
   "source": [
    "name = '홍길동'\n",
    "age = 30\n",
    "print(f\"나의 이름은 {name}이고 나이는 {age}입니다\")"
   ]
  },
  {
   "cell_type": "code",
   "execution_count": 77,
   "id": "6c2ebadb-6f9a-4e37-9546-f6d58812ca81",
   "metadata": {},
   "outputs": [
    {
     "name": "stdout",
     "output_type": "stream",
     "text": [
      "나는 내년이면 31살이 된다\n"
     ]
    }
   ],
   "source": [
    "age = 30\n",
    "print(f'나는 내년이면 {age+1}살이 된다')"
   ]
  },
  {
   "cell_type": "markdown",
   "id": "6e7444bd-5f7b-454a-b390-e785246d6a6e",
   "metadata": {},
   "source": [
    "# 문자열 포매팅\n",
    "- 강사는 f-문자열 좋아함\n",
    "- `f'문자열{표현식}문자열'`"
   ]
  },
  {
   "cell_type": "code",
   "execution_count": 78,
   "id": "c7a86032-8f33-47ff-aee3-066b52354650",
   "metadata": {},
   "outputs": [
    {
     "data": {
      "text/plain": [
       "'10'"
      ]
     },
     "execution_count": 78,
     "metadata": {},
     "output_type": "execute_result"
    }
   ],
   "source": [
    "# {} format() 함수 방식\n",
    "num1 = 10\n",
    "\"{}\".format(num1)\n"
   ]
  },
  {
   "cell_type": "code",
   "execution_count": 79,
   "id": "6f72d47b-2e14-48c9-8c94-a898fd7d9db6",
   "metadata": {},
   "outputs": [
    {
     "data": {
      "text/plain": [
       "'10'"
      ]
     },
     "execution_count": 79,
     "metadata": {},
     "output_type": "execute_result"
    }
   ],
   "source": [
    "num1 = 10\n",
    "f'{num1}'"
   ]
  },
  {
   "cell_type": "markdown",
   "id": "b1a82b4e-c840-4857-9a13-76c53d9fea11",
   "metadata": {},
   "source": [
    "## 문자열의 내장 메소드\n",
    "- 공식문서 꼭 확인"
   ]
  },
  {
   "cell_type": "markdown",
   "id": "352a9577-f8de-4af9-8726-c7638b0269bf",
   "metadata": {},
   "source": [
    "## 8교시에 할 것\n",
    "- 문자열 내장 메소드 익히기\n",
    "- f-문자열 익히기"
   ]
  },
  {
   "cell_type": "code",
   "execution_count": 80,
   "id": "6bd751bb-eb79-458a-af02-f44cee12a7f1",
   "metadata": {},
   "outputs": [
    {
     "name": "stdout",
     "output_type": "stream",
     "text": [
      "True\n"
     ]
    }
   ],
   "source": [
    "print(\"안녕\" in \"안녕하세요\")"
   ]
  },
  {
   "cell_type": "code",
   "execution_count": 81,
   "id": "24c1a1a7-2859-442b-908a-ac7b52835bb4",
   "metadata": {},
   "outputs": [
    {
     "name": "stdout",
     "output_type": "stream",
     "text": [
      "True\n"
     ]
    }
   ],
   "source": [
    "print(\"안\" in \"안녕하세요\")"
   ]
  },
  {
   "cell_type": "code",
   "execution_count": 82,
   "id": "d2b54fb8-720b-4812-8d02-105ead5e0d65",
   "metadata": {},
   "outputs": [
    {
     "name": "stdout",
     "output_type": "stream",
     "text": [
      "False\n"
     ]
    }
   ],
   "source": [
    "print(\"안녕허\" in \"안녕하세요\")"
   ]
  },
  {
   "cell_type": "code",
   "execution_count": 90,
   "id": "f2e0ae5c-3abc-4edf-9dc2-f0e73b535b04",
   "metadata": {},
   "outputs": [
    {
     "data": {
      "text/plain": [
       "['10 20 ', ' 40 50']"
      ]
     },
     "execution_count": 90,
     "metadata": {},
     "output_type": "execute_result"
    }
   ],
   "source": [
    "a = \"10 20 30 40 50\".split(\"30\") # str.split()과 같은 것임.\n",
    "a"
   ]
  },
  {
   "cell_type": "code",
   "execution_count": 95,
   "id": "5698c4d3-d2b5-4ead-af62-a7be5816988f",
   "metadata": {},
   "outputs": [
    {
     "data": {
      "text/plain": [
       "['10', '20', '30', '40', '50']"
      ]
     },
     "execution_count": 95,
     "metadata": {},
     "output_type": "execute_result"
    }
   ],
   "source": [
    "a = \"10 20 30 40 50\".split(sep=\".\") # str.split()과 같은 것임. -> 파이썬 공식문서 찾을때 \n",
    "a"
   ]
  },
  {
   "cell_type": "code",
   "execution_count": 91,
   "id": "022eff46-880f-479f-9a44-1bddc13ad616",
   "metadata": {},
   "outputs": [
    {
     "data": {
      "text/plain": [
       "['sample', 'file', 'txt']"
      ]
     },
     "execution_count": 91,
     "metadata": {},
     "output_type": "execute_result"
    }
   ],
   "source": [
    "filename = \"sample.file.txt\"\n",
    "parts = filename.split('.')\n",
    "parts"
   ]
  },
  {
   "cell_type": "markdown",
   "id": "dd54166f-f148-4ec3-ba2a-cd71bc3e9420",
   "metadata": {},
   "source": [
    "# 리스트와 튜플"
   ]
  },
  {
   "cell_type": "code",
   "execution_count": 117,
   "id": "eca85a68-b7cd-4dee-8e0c-aa717557aa28",
   "metadata": {},
   "outputs": [],
   "source": [
    "a = list()\n",
    "b = []\n",
    "c = [1,2,3]\n",
    "d = [\"a\", \"b\", \"c\", \"d\"]\n",
    "e = [1, 2, \"a\", None, True]\n",
    "f = [1, 2, 3, [1, 2, \"Hello Python!!\", None, True]]  #Nested List, 중첩 리스트라고 표현함\n",
    "#리스트를 만드는 여러가지 방식들"
   ]
  },
  {
   "cell_type": "code",
   "execution_count": 118,
   "id": "9e67f318-f0c5-4913-b032-28505b4b9350",
   "metadata": {},
   "outputs": [
    {
     "data": {
      "text/plain": [
       "[]"
      ]
     },
     "execution_count": 118,
     "metadata": {},
     "output_type": "execute_result"
    }
   ],
   "source": [
    "a"
   ]
  },
  {
   "cell_type": "code",
   "execution_count": 119,
   "id": "a500a55b-bc9e-4ffb-9ed5-c47d3cda8a3f",
   "metadata": {},
   "outputs": [
    {
     "data": {
      "text/plain": [
       "[]"
      ]
     },
     "execution_count": 119,
     "metadata": {},
     "output_type": "execute_result"
    }
   ],
   "source": [
    "b"
   ]
  },
  {
   "cell_type": "code",
   "execution_count": 120,
   "id": "d07dc586-a330-4230-b58e-ecfabe11811c",
   "metadata": {},
   "outputs": [
    {
     "data": {
      "text/plain": [
       "[1, 2, 3]"
      ]
     },
     "execution_count": 120,
     "metadata": {},
     "output_type": "execute_result"
    }
   ],
   "source": [
    "c"
   ]
  },
  {
   "cell_type": "code",
   "execution_count": 121,
   "id": "b16fab6b-f7c5-426d-a08a-e5160abe87d2",
   "metadata": {},
   "outputs": [
    {
     "data": {
      "text/plain": [
       "[1, 2, 3, [1, 2, 'Hello Python!!', None, True]]"
      ]
     },
     "execution_count": 121,
     "metadata": {},
     "output_type": "execute_result"
    }
   ],
   "source": [
    "f"
   ]
  },
  {
   "cell_type": "code",
   "execution_count": 122,
   "id": "143890a4-4a64-4fe3-88be-1b643ba0928b",
   "metadata": {},
   "outputs": [
    {
     "name": "stdout",
     "output_type": "stream",
     "text": [
      "[1, 2, 'Hello Python!!', None, True]\n"
     ]
    }
   ],
   "source": [
    "print(f[3])"
   ]
  },
  {
   "cell_type": "code",
   "execution_count": 116,
   "id": "2fad6107-ab07-4a8c-a71e-35d34e3def31",
   "metadata": {},
   "outputs": [
    {
     "data": {
      "text/plain": [
       "'Python!'"
      ]
     },
     "execution_count": 116,
     "metadata": {},
     "output_type": "execute_result"
    }
   ],
   "source": [
    "f_a = f[3]\n",
    "text = f_a[2]\n",
    "text[6:13]"
   ]
  },
  {
   "cell_type": "code",
   "execution_count": 139,
   "id": "f21cf9cb-a8d0-4bdf-aab8-fffdc075f532",
   "metadata": {},
   "outputs": [
    {
     "data": {
      "text/plain": [
       "'Python'"
      ]
     },
     "execution_count": 139,
     "metadata": {},
     "output_type": "execute_result"
    }
   ],
   "source": [
    "g = [1, 2, 3, 4, 5, 6, [1, 2, \"Hi,,,, !! Python !!! Hello, \", None, True]]\n",
    "result = g[6][2][10:16]\n",
    "result\n"
   ]
  },
  {
   "cell_type": "code",
   "execution_count": 145,
   "id": "858af92d-61c4-41ce-8ab3-28562fb5d617",
   "metadata": {},
   "outputs": [
    {
     "name": "stdout",
     "output_type": "stream",
     "text": [
      " Pyt\n"
     ]
    }
   ],
   "source": [
    "g = [1, 2, 3, 4, 5, 6, [1, 2, \"Hi,,,, !! Python !!! Hello, \", None, True]]\n",
    "g_a = g[6]\n",
    "print(g_a[2][9:13])"
   ]
  },
  {
   "cell_type": "code",
   "execution_count": null,
   "id": "85f9dfe5-49ed-44ac-8b2c-b5c25db60f0e",
   "metadata": {},
   "outputs": [],
   "source": []
  }
 ],
 "metadata": {
  "kernelspec": {
   "display_name": "Python 3 (ipykernel)",
   "language": "python",
   "name": "python3"
  },
  "language_info": {
   "codemirror_mode": {
    "name": "ipython",
    "version": 3
   },
   "file_extension": ".py",
   "mimetype": "text/x-python",
   "name": "python",
   "nbconvert_exporter": "python",
   "pygments_lexer": "ipython3",
   "version": "3.11.7"
  }
 },
 "nbformat": 4,
 "nbformat_minor": 5
}
